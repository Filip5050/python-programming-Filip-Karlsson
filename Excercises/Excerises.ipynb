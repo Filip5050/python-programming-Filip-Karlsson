{
 "cells": [
  {
   "cell_type": "code",
   "execution_count": 1,
   "metadata": {},
   "outputs": [
    {
     "name": "stdout",
     "output_type": "stream",
     "text": [
      "The Hypotenuse has a length of 5.0\n"
     ]
    }
   ],
   "source": [
    "import math\n",
    "\n",
    "catheti = (4**2) + (3**2)\n",
    "hypothenuse = math.sqrt(catheti)\n",
    "hypothenuse\n",
    "\n",
    "print(f'The Hypotenuse has a length of {hypothenuse}')"
   ]
  },
  {
   "cell_type": "code",
   "execution_count": 1,
   "metadata": {},
   "outputs": [
    {
     "name": "stdout",
     "output_type": "stream",
     "text": [
      "the catheti has a length of around 4.9\n"
     ]
    }
   ],
   "source": [
    "import math\n",
    "\n",
    "hypothenuse = (7**2) - (5**2)\n",
    "\n",
    "\n",
    "hypothenuse = math.sqrt(hypothenuse)\n",
    "catheti = round(hypothenuse, 1)\n",
    "print(f'the catheti has a length of around {catheti}')"
   ]
  },
  {
   "cell_type": "code",
   "execution_count": 2,
   "metadata": {},
   "outputs": [
    {
     "name": "stdout",
     "output_type": "stream",
     "text": [
      "the accuracy of this model is 82.19%\n"
     ]
    }
   ],
   "source": [
    "accuracy = 300/365\n",
    "\n",
    "dec_accuracy = accuracy * 100\n",
    "\n",
    "print(f\"the accuracy of this model is {round(dec_accuracy,2)}%\")"
   ]
  },
  {
   "cell_type": "code",
   "execution_count": null,
   "metadata": {},
   "outputs": [],
   "source": []
  }
 ],
 "metadata": {
  "kernelspec": {
   "display_name": ".venv",
   "language": "python",
   "name": "python3"
  },
  "language_info": {
   "codemirror_mode": {
    "name": "ipython",
    "version": 3
   },
   "file_extension": ".py",
   "mimetype": "text/x-python",
   "name": "python",
   "nbconvert_exporter": "python",
   "pygments_lexer": "ipython3",
   "version": "3.12.5"
  }
 },
 "nbformat": 4,
 "nbformat_minor": 2
}
