{
 "cells": [
  {
   "cell_type": "code",
   "execution_count": null,
   "metadata": {},
   "outputs": [],
   "source": [
    "import matplotlib.pyplot as plt\n",
    "import numpy as np\n",
    "from collections import Counter\n",
    "\n",
    "#Här skapar jag en Pokemon Data som en Tuple där jag sedan med koden under kommer spara in all information som namnen Pichu och Pickachu, Vad deras längd Data är och Bredd Data, \n",
    "Pokemon_Data = []\n",
    "\n",
    "with open (r\"C:\\Code\\Data\\datapoints.txt\", \"r\") as Datapoints:\n",
    "    for Data in Datapoints:\n",
    "        #Denna delen får jag ut alla titlar till pokemonsen  så jag kan spara höjden, bredden och titeln på pokemonen och skapar en klass för det \n",
    "        Tal = Data.strip().split(',')\n",
    "        if len(Tal) == 3:\n",
    "            width = float(Tal[0])\n",
    "            height = float(Tal[1])\n",
    "            Pokemon = int(Tal[2])\n",
    "            Pokemon_Data.append((width, height, Pokemon))"
   ]
  }
 ],
 "metadata": {
  "kernelspec": {
   "display_name": ".venv",
   "language": "python",
   "name": "python3"
  },
  "language_info": {
   "codemirror_mode": {
    "name": "ipython",
    "version": 3
   },
   "file_extension": ".py",
   "mimetype": "text/x-python",
   "name": "python",
   "nbconvert_exporter": "python",
   "pygments_lexer": "ipython3",
   "version": "3.12.5"
  }
 },
 "nbformat": 4,
 "nbformat_minor": 2
}
