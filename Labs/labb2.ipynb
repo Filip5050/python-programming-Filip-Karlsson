{
 "cells": [
  {
   "cell_type": "code",
   "execution_count": null,
   "metadata": {},
   "outputs": [],
   "source": [
    "import matplotlib.pyplot as plt\n",
    "import numpy as np\n",
    "from collections import Counter\n",
    "\n",
    "#Här skapar jag en Pokemon Data som en Tuple där jag sedan med koden under kommer spara in all information som namnen Pichu och Pickachu, Vad deras längd Data är och Bredd Data, \n",
    "Pokemon_Data = []\n",
    "\n",
    "with open (r\"C:\\Code\\Data\\datapoints.txt\", \"r\") as Datapoints:\n",
    "    for Data in Datapoints:\n",
    "        #Denna delen får jag ut alla titlar till pokemonsen  så jag kan spara höjden, bredden och titeln på pokemonen och skapar en klass för det \n",
    "        Tal = Data.strip().split(',')\n",
    "        if len(Tal) == 3:\n",
    "            width = float(Tal[0])\n",
    "            height = float(Tal[1])\n",
    "            Pokemon = int(Tal[2])\n",
    "            Pokemon_Data.append((width, height, Pokemon))\n",
    "\n",
    "#Här får jag då ut att all information och sparar det under sin klass\n",
    "width_pichu = [w for w, h, l in Pokemon_Data if l == 0]\n",
    "height_pichu = [h for w, h, l in Pokemon_Data if l == 0]\n",
    "\n",
    "width_pikachu = [w for w, h, l in Pokemon_Data if l == 1]\n",
    "height_pikachu = [h for w, h, l in Pokemon_Data if l == 1]\n",
    "\n",
    "\n",
    "plt.figure(figsize=(8,5), dpi =100)\n",
    "plt.title(\"Weight and height of Pichu And Pikachu\")\n",
    "plt.xlabel(\"Weight\")\n",
    "plt.ylabel(\"Height\")\n",
    "test_x, test_y = zip(*Test_points)\n",
    "plt.plot(test_x, test_y, \"o\", label='Test Points')\n",
    "plt.plot(width_pikachu, height_pikachu, \"o\", label=(\"Pikachu\"))\n",
    "plt.plot(width_pichu, height_pichu, \"o\", label=(\"Pichu\"))\n",
    "\n",
    "plt.legend()"
   ]
  }
 ],
 "metadata": {
  "kernelspec": {
   "display_name": ".venv",
   "language": "python",
   "name": "python3"
  },
  "language_info": {
   "codemirror_mode": {
    "name": "ipython",
    "version": 3
   },
   "file_extension": ".py",
   "mimetype": "text/x-python",
   "name": "python",
   "nbconvert_exporter": "python",
   "pygments_lexer": "ipython3",
   "version": "3.12.5"
  }
 },
 "nbformat": 4,
 "nbformat_minor": 2
}
